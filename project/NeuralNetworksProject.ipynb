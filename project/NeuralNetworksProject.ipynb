{
  "cells": [
    {
      "cell_type": "code",
      "execution_count": null,
      "metadata": {
        "id": "N5ilqBCQokYv"
      },
      "outputs": [],
      "source": [
        "### Load libraries ###\n",
        "# from keras.layers import Input, Conv2D, MaxPooling2D, Flatten, Reshape, Conv2DTranspose, UpSampling2D\n",
        "from keras.models import Model\n",
        "import os\n",
        "import numpy as np\n",
        "from PIL import Image\n",
        "from PIL import ImageFile\n",
        "import torch\n",
        "import torch.nn as nn\n",
        "import torch.optim as optim\n",
        "import torch.utils.data as data\n",
        "import torchvision\n",
        "import torchvision.transforms as transforms\n",
        "import torch.nn.functional as F\n",
        "from tqdm import tqdm\n",
        "import matplotlib.pyplot as plt\n",
        "import random\n"
      ]
    },
    {
      "cell_type": "code",
      "execution_count": null,
      "metadata": {
        "id": "xr_AH1yBtN76"
      },
      "outputs": [],
      "source": [
        "# Define paths to the training data\n",
        "TRAINING_PATH   = '/content/drive/MyDrive/NeuralNetworks/Project/sets/training'\n",
        "VALIDATION_PATH = '/content/drive/MyDrive/NeuralNetworks/Project/sets/validation'\n",
        "TEST_PATH       = '/content/drive/MyDrive/NeuralNetworks/Project/sets/test'"
      ]
    },
    {
      "cell_type": "code",
      "execution_count": null,
      "metadata": {
        "id": "lQ1l4MnznBoe"
      },
      "outputs": [],
      "source": [
        "# Encoder\n",
        "class Encoder(nn.Module):\n",
        "    def __init__(self, input_shape, encoded_dim):\n",
        "        super().__init__()\n",
        "        channels, height, width = input_shape\n",
        "        \n",
        "        self.conv1 = nn.Conv2d(channels, 32, kernel_size=3, stride=1, padding=1)\n",
        "        self.conv2 = nn.Conv2d(32, 64, kernel_size=3, stride=1, padding=1)\n",
        "        self.conv3 = nn.Conv2d(64, 128, kernel_size=3, stride=1, padding=1)\n",
        "        \n",
        "        self.pool = nn.MaxPool2d(kernel_size=2, stride=2)\n",
        "        \n",
        "        self.fc = nn.Linear(128 * (height//8) * (width//8), encoded_dim)\n",
        "\n",
        "    def forward(self, x):\n",
        "        x = F.relu(self.conv1(x))\n",
        "        x = self.pool(x)\n",
        "        x = F.relu(self.conv2(x))\n",
        "        x = self.pool(x)\n",
        "        x = F.relu(self.conv3(x))\n",
        "        x = self.pool(x)\n",
        "        x = x.view(x.size(0), -1)\n",
        "        x = self.fc(x)\n",
        "        return x\n"
      ]
    },
    {
      "cell_type": "markdown",
      "metadata": {
        "id": "YfZELsVXolpR"
      },
      "source": []
    },
    {
      "cell_type": "code",
      "execution_count": null,
      "metadata": {
        "id": "q_fw9ev3oapD"
      },
      "outputs": [],
      "source": [
        "# Decoder class\n",
        "\n",
        "class Decoder(nn.Module):\n",
        "    def __init__(self, encoded_dim, output_shape):\n",
        "        super().__init__()\n",
        "        self.fc1 = nn.Linear(encoded_dim, 256 * 16 * 16)\n",
        "        self.conv1 = nn.ConvTranspose2d(256, 128, kernel_size=4, stride=2, padding=1)\n",
        "        self.conv2 = nn.ConvTranspose2d(128, 64, kernel_size=4, stride=2, padding=1)\n",
        "        self.conv3 = nn.ConvTranspose2d(64, 32, kernel_size=4, stride=2, padding=1)\n",
        "        self.conv4 = nn.ConvTranspose2d(32, 1, kernel_size=4, stride=2, padding=1)\n",
        "\n",
        "    def forward(self, x):\n",
        "        x = self.fc1(x)\n",
        "        x = x.view(-1, 256, 16, 16)\n",
        "        x = F.relu(self.conv1(x))\n",
        "        x = F.relu(self.conv2(x))\n",
        "        x = F.relu(self.conv3(x))\n",
        "        x = torch.sigmoid(self.conv4(x))\n",
        "        x = F.interpolate(x, size=(512,512), mode='bilinear', align_corners=False)\n",
        "        return x\n"
      ]
    },
    {
      "cell_type": "code",
      "execution_count": null,
      "metadata": {
        "colab": {
          "base_uri": "https://localhost:8080/"
        },
        "id": "eCrRC7M-GPEi",
        "outputId": "67d1ed43-595c-4a3e-e53c-f1abc3582c17"
      },
      "outputs": [
        {
          "name": "stdout",
          "output_type": "stream",
          "text": [
            "1800\n",
            "600\n",
            "600\n"
          ]
        }
      ],
      "source": [
        "# Define train, validation, and test sets\n",
        "training_files = sorted(os.listdir(TRAINING_PATH))\n",
        "training_files_midpoint = int(len(training_files)/4)\n",
        "train_data = [('noisy_'+file, file) for file in training_files[:training_files_midpoint]]\n",
        "\n",
        "print(len(train_data))\n",
        "\n",
        "validation_files = sorted(os.listdir(VALIDATION_PATH))\n",
        "validation_files_midpoint = int(len(validation_files)/4)\n",
        "validation_data = [('noisy_'+file, file) for file in validation_files[:validation_files_midpoint]]\n",
        "\n",
        "print(len(validation_data))\n",
        "\n",
        "test_files = sorted(os.listdir(TEST_PATH))\n",
        "test_files_midpoint = int(len(test_files)/4)\n",
        "test_data = [('noisy_'+file, file) for file in test_files[:test_files_midpoint]]\n",
        "\n",
        "print(len(test_data))"
      ]
    },
    {
      "cell_type": "code",
      "execution_count": null,
      "metadata": {
        "id": "367zd2LVnFAl"
      },
      "outputs": [],
      "source": [
        "# Define data transformation (just converting to tensor for now)\n",
        "data_transform = transforms.Compose([\n",
        "        transforms.ToTensor()\n",
        "    ])"
      ]
    },
    {
      "cell_type": "code",
      "execution_count": null,
      "metadata": {
        "id": "l023YHGPE7H5"
      },
      "outputs": [],
      "source": [
        "# Define a dataloader\n",
        "class DenoiseDataset(torch.utils.data.Dataset):\n",
        "    def __init__(self, data_list, path, transform=None):\n",
        "        self.data_list = data_list\n",
        "        self.transform = transform\n",
        "        self.path = path\n",
        "\n",
        "    def __getitem__(self, index):\n",
        "        noisy_file, clean_file = self.data_list[index]\n",
        "        noisy_img = Image.open(os.path.join(self.path, noisy_file))\n",
        "        clean_img = Image.open(os.path.join(self.path, clean_file))\n",
        "        noisy_tensor = self.transform(noisy_img)\n",
        "        clean_tensor = self.transform(clean_img)\n",
        "        return {'noisy': noisy_tensor, 'clean': clean_tensor}\n",
        "\n",
        "    def __len__(self):\n",
        "        return len(self.data_list)\n"
      ]
    },
    {
      "cell_type": "code",
      "execution_count": null,
      "metadata": {
        "id": "VwIG6fA69Oks"
      },
      "outputs": [],
      "source": [
        "# Load data for each dataset\n",
        "train_dataset = DenoiseDataset(train_data, path=TRAINING_PATH, transform=data_transform)\n",
        "train_loader = torch.utils.data.DataLoader(train_dataset, batch_size=1, shuffle=True)\n",
        "\n",
        "validation_dataset = DenoiseDataset(validation_data, path=VALIDATION_PATH, transform=data_transform)\n",
        "validation_loader = torch.utils.data.DataLoader(validation_dataset, batch_size=1, shuffle=True)\n",
        "\n",
        "test_dataset = DenoiseDataset(test_data, path=TEST_PATH, transform=data_transform)\n",
        "test_loader = torch.utils.data.DataLoader(test_dataset, batch_size=1, shuffle=True)"
      ]
    },
    {
      "cell_type": "code",
      "execution_count": null,
      "metadata": {
        "id": "ouO8vCAsjkDV"
      },
      "outputs": [],
      "source": [
        "# Define the device to be used for training\n",
        "device = torch.device(\"cuda:0\" if torch.cuda.is_available() else \"cpu\")\n",
        "\n",
        "my_best_model = \"/content/drive/MyDrive/NeuralNetworks/best_model.pth\""
      ]
    },
    {
      "cell_type": "code",
      "execution_count": null,
      "metadata": {
        "id": "fXShKy7jHsEe"
      },
      "outputs": [],
      "source": [
        "# Define your denoising autoencoder model\n",
        "class DenoisingAutoencoder(nn.Module):\n",
        "    def __init__(self, input_shape, encoded_dim):\n",
        "        super().__init__()\n",
        "        self.encoder = Encoder(input_shape, encoded_dim)\n",
        "        self.decoder = Decoder(encoded_dim, input_shape)\n",
        "\n",
        "    def forward(self, x):\n",
        "        x = self.encoder(x)\n",
        "        x = self.decoder(x)\n",
        "        return x\n",
        "\n",
        "# Define the input/output (they're symmetrical) shape and encoded dimension\n",
        "input_shape = (1, 512, 512)\n",
        "encoded_dim = 64\n",
        "\n",
        "# Define encoder and decoder models as PyTorch modules\n",
        "encoder = Encoder(input_shape=input_shape, encoded_dim=encoded_dim)\n",
        "decoder = Decoder(encoded_dim=encoded_dim, output_shape=input_shape)\n",
        "\n",
        "# Create an instance of the DenoisingAutoencoder model\n",
        "model = DenoisingAutoencoder(input_shape=input_shape, encoded_dim=encoded_dim)\n",
        "\n",
        "# Define the loss function and optimizer\n",
        "criterion = nn.MSELoss()\n",
        "optimizer = optim.Adam(model.parameters(), lr=0.001)\n"
      ]
    },
    {
      "cell_type": "code",
      "execution_count": null,
      "metadata": {
        "colab": {
          "base_uri": "https://localhost:8080/"
        },
        "id": "iP8snoI31c71",
        "outputId": "c86a7fe0-a397-4060-af54-2bbfc755031a"
      },
      "outputs": [
        {
          "name": "stderr",
          "output_type": "stream",
          "text": [
            "23it [00:46,  1.91s/it]/usr/local/lib/python3.9/dist-packages/torch/nn/modules/loss.py:536: UserWarning: Using a target size (torch.Size([1, 4, 512, 512])) that is different to the input size (torch.Size([1, 1, 512, 512])). This will likely lead to incorrect results due to broadcasting. Please ensure they have the same size.\n",
            "  return F.mse_loss(input, target, reduction=self.reduction)\n",
            "100it [03:22,  2.04s/it]"
          ]
        },
        {
          "name": "stdout",
          "output_type": "stream",
          "text": [
            "[1, 100] loss: 0.04866583268158138\n"
          ]
        },
        {
          "name": "stderr",
          "output_type": "stream",
          "text": [
            "200it [06:34,  1.87s/it]"
          ]
        },
        {
          "name": "stdout",
          "output_type": "stream",
          "text": [
            "[1, 200] loss: 0.033711762027814986\n"
          ]
        },
        {
          "name": "stderr",
          "output_type": "stream",
          "text": [
            "300it [09:49,  2.00s/it]"
          ]
        },
        {
          "name": "stdout",
          "output_type": "stream",
          "text": [
            "[1, 300] loss: 0.026005547689273954\n"
          ]
        },
        {
          "name": "stderr",
          "output_type": "stream",
          "text": [
            "400it [13:11,  2.24s/it]"
          ]
        },
        {
          "name": "stdout",
          "output_type": "stream",
          "text": [
            "[1, 400] loss: 0.021628693398088216\n"
          ]
        },
        {
          "name": "stderr",
          "output_type": "stream",
          "text": [
            "500it [16:25,  1.92s/it]"
          ]
        },
        {
          "name": "stdout",
          "output_type": "stream",
          "text": [
            "[1, 500] loss: 0.018903119075112045\n"
          ]
        },
        {
          "name": "stderr",
          "output_type": "stream",
          "text": [
            "600it [19:42,  2.19s/it]"
          ]
        },
        {
          "name": "stdout",
          "output_type": "stream",
          "text": [
            "[1, 600] loss: 0.0175606380822137\n"
          ]
        },
        {
          "name": "stderr",
          "output_type": "stream",
          "text": [
            "700it [23:35,  2.40s/it]"
          ]
        },
        {
          "name": "stdout",
          "output_type": "stream",
          "text": [
            "[1, 700] loss: 0.016079862266778946\n"
          ]
        },
        {
          "name": "stderr",
          "output_type": "stream",
          "text": [
            "800it [27:29,  2.11s/it]"
          ]
        },
        {
          "name": "stdout",
          "output_type": "stream",
          "text": [
            "[1, 800] loss: 0.016644945931620896\n"
          ]
        },
        {
          "name": "stderr",
          "output_type": "stream",
          "text": [
            "900it [31:13,  2.23s/it]"
          ]
        },
        {
          "name": "stdout",
          "output_type": "stream",
          "text": [
            "[1, 900] loss: 0.01443642100552097\n"
          ]
        },
        {
          "name": "stderr",
          "output_type": "stream",
          "text": [
            "1000it [35:01,  2.20s/it]"
          ]
        },
        {
          "name": "stdout",
          "output_type": "stream",
          "text": [
            "[1, 1000] loss: 0.014933602837845682\n"
          ]
        },
        {
          "name": "stderr",
          "output_type": "stream",
          "text": [
            "1100it [38:47,  2.27s/it]"
          ]
        },
        {
          "name": "stdout",
          "output_type": "stream",
          "text": [
            "[1, 1100] loss: 0.01508091608993709\n"
          ]
        },
        {
          "name": "stderr",
          "output_type": "stream",
          "text": [
            "1200it [42:33,  2.21s/it]"
          ]
        },
        {
          "name": "stdout",
          "output_type": "stream",
          "text": [
            "[1, 1200] loss: 0.014850337542593479\n"
          ]
        },
        {
          "name": "stderr",
          "output_type": "stream",
          "text": [
            "1300it [46:27,  2.19s/it]"
          ]
        },
        {
          "name": "stdout",
          "output_type": "stream",
          "text": [
            "[1, 1300] loss: 0.013409307724796236\n"
          ]
        },
        {
          "name": "stderr",
          "output_type": "stream",
          "text": [
            "1400it [50:14,  2.29s/it]"
          ]
        },
        {
          "name": "stdout",
          "output_type": "stream",
          "text": [
            "[1, 1400] loss: 0.016770283421501518\n"
          ]
        },
        {
          "name": "stderr",
          "output_type": "stream",
          "text": [
            "1500it [54:11,  2.26s/it]"
          ]
        },
        {
          "name": "stdout",
          "output_type": "stream",
          "text": [
            "[1, 1500] loss: 0.014509808304719627\n"
          ]
        },
        {
          "name": "stderr",
          "output_type": "stream",
          "text": [
            "1600it [58:01,  2.29s/it]"
          ]
        },
        {
          "name": "stdout",
          "output_type": "stream",
          "text": [
            "[1, 1600] loss: 0.011522051955107599\n"
          ]
        },
        {
          "name": "stderr",
          "output_type": "stream",
          "text": [
            "1700it [1:01:50,  2.25s/it]"
          ]
        },
        {
          "name": "stdout",
          "output_type": "stream",
          "text": [
            "[1, 1700] loss: 0.01158424916677177\n"
          ]
        },
        {
          "name": "stderr",
          "output_type": "stream",
          "text": [
            "1800it [1:05:40,  2.19s/it]"
          ]
        },
        {
          "name": "stdout",
          "output_type": "stream",
          "text": [
            "[1, 1800] loss: 0.010968255084007979\n"
          ]
        },
        {
          "name": "stderr",
          "output_type": "stream",
          "text": [
            "\n"
          ]
        },
        {
          "name": "stdout",
          "output_type": "stream",
          "text": [
            "Validation loss: 0.013\n",
            "Saving model state...\n"
          ]
        },
        {
          "name": "stderr",
          "output_type": "stream",
          "text": [
            "100it [02:44,  1.61s/it]"
          ]
        },
        {
          "name": "stdout",
          "output_type": "stream",
          "text": [
            "[2, 100] loss: 0.01259927801322192\n"
          ]
        },
        {
          "name": "stderr",
          "output_type": "stream",
          "text": [
            "200it [05:16,  1.47s/it]"
          ]
        },
        {
          "name": "stdout",
          "output_type": "stream",
          "text": [
            "[2, 200] loss: 0.010557552222162486\n"
          ]
        },
        {
          "name": "stderr",
          "output_type": "stream",
          "text": [
            "300it [07:48,  1.47s/it]"
          ]
        },
        {
          "name": "stdout",
          "output_type": "stream",
          "text": [
            "[2, 300] loss: 0.009974343259818852\n"
          ]
        },
        {
          "name": "stderr",
          "output_type": "stream",
          "text": [
            "400it [10:21,  1.54s/it]"
          ]
        },
        {
          "name": "stdout",
          "output_type": "stream",
          "text": [
            "[2, 400] loss: 0.009594818567857146\n"
          ]
        },
        {
          "name": "stderr",
          "output_type": "stream",
          "text": [
            "500it [12:53,  1.68s/it]"
          ]
        },
        {
          "name": "stdout",
          "output_type": "stream",
          "text": [
            "[2, 500] loss: 0.010818734574131668\n"
          ]
        },
        {
          "name": "stderr",
          "output_type": "stream",
          "text": [
            "600it [15:24,  1.41s/it]"
          ]
        },
        {
          "name": "stdout",
          "output_type": "stream",
          "text": [
            "[2, 600] loss: 0.010889005220960826\n"
          ]
        },
        {
          "name": "stderr",
          "output_type": "stream",
          "text": [
            "700it [17:57,  1.44s/it]"
          ]
        },
        {
          "name": "stdout",
          "output_type": "stream",
          "text": [
            "[2, 700] loss: 0.009841977576725185\n"
          ]
        },
        {
          "name": "stderr",
          "output_type": "stream",
          "text": [
            "800it [20:28,  1.53s/it]"
          ]
        },
        {
          "name": "stdout",
          "output_type": "stream",
          "text": [
            "[2, 800] loss: 0.008905754275619984\n"
          ]
        },
        {
          "name": "stderr",
          "output_type": "stream",
          "text": [
            "900it [22:57,  1.46s/it]"
          ]
        },
        {
          "name": "stdout",
          "output_type": "stream",
          "text": [
            "[2, 900] loss: 0.009533856983762235\n"
          ]
        },
        {
          "name": "stderr",
          "output_type": "stream",
          "text": [
            "1000it [25:27,  1.45s/it]"
          ]
        },
        {
          "name": "stdout",
          "output_type": "stream",
          "text": [
            "[2, 1000] loss: 0.009623669860884547\n"
          ]
        },
        {
          "name": "stderr",
          "output_type": "stream",
          "text": [
            "1100it [28:07,  1.45s/it]"
          ]
        },
        {
          "name": "stdout",
          "output_type": "stream",
          "text": [
            "[2, 1100] loss: 0.009801061376929283\n"
          ]
        },
        {
          "name": "stderr",
          "output_type": "stream",
          "text": [
            "1200it [30:40,  1.47s/it]"
          ]
        },
        {
          "name": "stdout",
          "output_type": "stream",
          "text": [
            "[2, 1200] loss: 0.010683329179883003\n"
          ]
        },
        {
          "name": "stderr",
          "output_type": "stream",
          "text": [
            "1300it [33:13,  1.55s/it]"
          ]
        },
        {
          "name": "stdout",
          "output_type": "stream",
          "text": [
            "[2, 1300] loss: 0.009894156905356794\n"
          ]
        },
        {
          "name": "stderr",
          "output_type": "stream",
          "text": [
            "1400it [35:46,  1.69s/it]"
          ]
        },
        {
          "name": "stdout",
          "output_type": "stream",
          "text": [
            "[2, 1400] loss: 0.00930835509672761\n"
          ]
        },
        {
          "name": "stderr",
          "output_type": "stream",
          "text": [
            "1500it [38:25,  1.63s/it]"
          ]
        },
        {
          "name": "stdout",
          "output_type": "stream",
          "text": [
            "[2, 1500] loss: 0.007354160542599857\n"
          ]
        },
        {
          "name": "stderr",
          "output_type": "stream",
          "text": [
            "1600it [40:55,  1.41s/it]"
          ]
        },
        {
          "name": "stdout",
          "output_type": "stream",
          "text": [
            "[2, 1600] loss: 0.009222749432083219\n"
          ]
        },
        {
          "name": "stderr",
          "output_type": "stream",
          "text": [
            "1700it [43:25,  1.46s/it]"
          ]
        },
        {
          "name": "stdout",
          "output_type": "stream",
          "text": [
            "[2, 1700] loss: 0.008160560363903642\n"
          ]
        },
        {
          "name": "stderr",
          "output_type": "stream",
          "text": [
            "1800it [45:55,  1.53s/it]"
          ]
        },
        {
          "name": "stdout",
          "output_type": "stream",
          "text": [
            "[2, 1800] loss: 0.008007163973525166\n"
          ]
        },
        {
          "name": "stderr",
          "output_type": "stream",
          "text": [
            "\n"
          ]
        },
        {
          "name": "stdout",
          "output_type": "stream",
          "text": [
            "Validation loss: 0.008\n",
            "Saving model state...\n"
          ]
        },
        {
          "name": "stderr",
          "output_type": "stream",
          "text": [
            "100it [02:29,  1.67s/it]"
          ]
        },
        {
          "name": "stdout",
          "output_type": "stream",
          "text": [
            "[3, 100] loss: 0.006525667693931609\n"
          ]
        },
        {
          "name": "stderr",
          "output_type": "stream",
          "text": [
            "200it [05:00,  1.46s/it]"
          ]
        },
        {
          "name": "stdout",
          "output_type": "stream",
          "text": [
            "[3, 200] loss: 0.007497576999012381\n"
          ]
        },
        {
          "name": "stderr",
          "output_type": "stream",
          "text": [
            "300it [07:31,  1.44s/it]"
          ]
        },
        {
          "name": "stdout",
          "output_type": "stream",
          "text": [
            "[3, 300] loss: 0.008182820528745652\n"
          ]
        },
        {
          "name": "stderr",
          "output_type": "stream",
          "text": [
            "400it [10:00,  1.62s/it]"
          ]
        },
        {
          "name": "stdout",
          "output_type": "stream",
          "text": [
            "[3, 400] loss: 0.006834399229846895\n"
          ]
        },
        {
          "name": "stderr",
          "output_type": "stream",
          "text": [
            "500it [12:29,  1.41s/it]"
          ]
        },
        {
          "name": "stdout",
          "output_type": "stream",
          "text": [
            "[3, 500] loss: 0.009203563046175986\n"
          ]
        },
        {
          "name": "stderr",
          "output_type": "stream",
          "text": [
            "600it [14:57,  1.50s/it]"
          ]
        },
        {
          "name": "stdout",
          "output_type": "stream",
          "text": [
            "[3, 600] loss: 0.009756183202844113\n"
          ]
        },
        {
          "name": "stderr",
          "output_type": "stream",
          "text": [
            "700it [17:33,  1.77s/it]"
          ]
        },
        {
          "name": "stdout",
          "output_type": "stream",
          "text": [
            "[3, 700] loss: 0.007794332208577543\n"
          ]
        },
        {
          "name": "stderr",
          "output_type": "stream",
          "text": [
            "800it [20:04,  1.60s/it]"
          ]
        },
        {
          "name": "stdout",
          "output_type": "stream",
          "text": [
            "[3, 800] loss: 0.006902938764542341\n"
          ]
        },
        {
          "name": "stderr",
          "output_type": "stream",
          "text": [
            "900it [22:36,  1.44s/it]"
          ]
        },
        {
          "name": "stdout",
          "output_type": "stream",
          "text": [
            "[3, 900] loss: 0.007888782387599349\n"
          ]
        },
        {
          "name": "stderr",
          "output_type": "stream",
          "text": [
            "1000it [25:09,  1.47s/it]"
          ]
        },
        {
          "name": "stdout",
          "output_type": "stream",
          "text": [
            "[3, 1000] loss: 0.00930623521329835\n"
          ]
        },
        {
          "name": "stderr",
          "output_type": "stream",
          "text": [
            "1100it [27:47,  1.52s/it]"
          ]
        },
        {
          "name": "stdout",
          "output_type": "stream",
          "text": [
            "[3, 1100] loss: 0.006354902551975101\n"
          ]
        },
        {
          "name": "stderr",
          "output_type": "stream",
          "text": [
            "1200it [30:19,  1.43s/it]"
          ]
        },
        {
          "name": "stdout",
          "output_type": "stream",
          "text": [
            "[3, 1200] loss: 0.009221633521374315\n"
          ]
        },
        {
          "name": "stderr",
          "output_type": "stream",
          "text": [
            "1300it [32:50,  1.47s/it]"
          ]
        },
        {
          "name": "stdout",
          "output_type": "stream",
          "text": [
            "[3, 1300] loss: 0.007846947975922376\n"
          ]
        },
        {
          "name": "stderr",
          "output_type": "stream",
          "text": [
            "1400it [35:20,  1.64s/it]"
          ]
        },
        {
          "name": "stdout",
          "output_type": "stream",
          "text": [
            "[3, 1400] loss: 0.006857143563684076\n"
          ]
        },
        {
          "name": "stderr",
          "output_type": "stream",
          "text": [
            "1500it [37:59,  1.62s/it]"
          ]
        },
        {
          "name": "stdout",
          "output_type": "stream",
          "text": [
            "[3, 1500] loss: 0.006269259639084339\n"
          ]
        },
        {
          "name": "stderr",
          "output_type": "stream",
          "text": [
            "1600it [40:31,  1.66s/it]"
          ]
        },
        {
          "name": "stdout",
          "output_type": "stream",
          "text": [
            "[3, 1600] loss: 0.007227495333645493\n"
          ]
        },
        {
          "name": "stderr",
          "output_type": "stream",
          "text": [
            "1700it [43:03,  1.54s/it]"
          ]
        },
        {
          "name": "stdout",
          "output_type": "stream",
          "text": [
            "[3, 1700] loss: 0.006567926169373095\n"
          ]
        },
        {
          "name": "stderr",
          "output_type": "stream",
          "text": [
            "1800it [45:34,  1.52s/it]"
          ]
        },
        {
          "name": "stdout",
          "output_type": "stream",
          "text": [
            "[3, 1800] loss: 0.0057671942852903155\n"
          ]
        },
        {
          "name": "stderr",
          "output_type": "stream",
          "text": [
            "\n"
          ]
        },
        {
          "name": "stdout",
          "output_type": "stream",
          "text": [
            "Validation loss: 0.007\n",
            "Saving model state...\n"
          ]
        },
        {
          "name": "stderr",
          "output_type": "stream",
          "text": [
            "100it [02:30,  1.66s/it]"
          ]
        },
        {
          "name": "stdout",
          "output_type": "stream",
          "text": [
            "[4, 100] loss: 0.005465714244637638\n"
          ]
        },
        {
          "name": "stderr",
          "output_type": "stream",
          "text": [
            "200it [04:57,  1.43s/it]"
          ]
        },
        {
          "name": "stdout",
          "output_type": "stream",
          "text": [
            "[4, 200] loss: 0.007216062447987497\n"
          ]
        },
        {
          "name": "stderr",
          "output_type": "stream",
          "text": [
            "300it [07:27,  1.59s/it]"
          ]
        },
        {
          "name": "stdout",
          "output_type": "stream",
          "text": [
            "[4, 300] loss: 0.008906772134359926\n"
          ]
        },
        {
          "name": "stderr",
          "output_type": "stream",
          "text": [
            "400it [09:56,  1.40s/it]"
          ]
        },
        {
          "name": "stdout",
          "output_type": "stream",
          "text": [
            "[4, 400] loss: 0.00672537115169689\n"
          ]
        },
        {
          "name": "stderr",
          "output_type": "stream",
          "text": [
            "500it [12:25,  1.48s/it]"
          ]
        },
        {
          "name": "stdout",
          "output_type": "stream",
          "text": [
            "[4, 500] loss: 0.00744684555567801\n"
          ]
        },
        {
          "name": "stderr",
          "output_type": "stream",
          "text": [
            "600it [14:56,  1.67s/it]"
          ]
        },
        {
          "name": "stdout",
          "output_type": "stream",
          "text": [
            "[4, 600] loss: 0.006758422872517258\n"
          ]
        },
        {
          "name": "stderr",
          "output_type": "stream",
          "text": [
            "700it [17:33,  1.69s/it]"
          ]
        },
        {
          "name": "stdout",
          "output_type": "stream",
          "text": [
            "[4, 700] loss: 0.006868434082716704\n"
          ]
        },
        {
          "name": "stderr",
          "output_type": "stream",
          "text": [
            "800it [20:04,  1.47s/it]"
          ]
        },
        {
          "name": "stdout",
          "output_type": "stream",
          "text": [
            "[4, 800] loss: 0.006276993703795597\n"
          ]
        },
        {
          "name": "stderr",
          "output_type": "stream",
          "text": [
            "900it [22:35,  1.43s/it]"
          ]
        },
        {
          "name": "stdout",
          "output_type": "stream",
          "text": [
            "[4, 900] loss: 0.00679958073887974\n"
          ]
        },
        {
          "name": "stderr",
          "output_type": "stream",
          "text": [
            "1000it [25:10,  1.45s/it]"
          ]
        },
        {
          "name": "stdout",
          "output_type": "stream",
          "text": [
            "[4, 1000] loss: 0.006773416099604219\n"
          ]
        },
        {
          "name": "stderr",
          "output_type": "stream",
          "text": [
            "1100it [27:48,  1.43s/it]"
          ]
        },
        {
          "name": "stdout",
          "output_type": "stream",
          "text": [
            "[4, 1100] loss: 0.0064548160647973415\n"
          ]
        },
        {
          "name": "stderr",
          "output_type": "stream",
          "text": [
            "1200it [30:21,  1.47s/it]"
          ]
        },
        {
          "name": "stdout",
          "output_type": "stream",
          "text": [
            "[4, 1200] loss: 0.006861145333386958\n"
          ]
        },
        {
          "name": "stderr",
          "output_type": "stream",
          "text": [
            "1300it [32:55,  1.50s/it]"
          ]
        },
        {
          "name": "stdout",
          "output_type": "stream",
          "text": [
            "[4, 1300] loss: 0.006302536997245625\n"
          ]
        },
        {
          "name": "stderr",
          "output_type": "stream",
          "text": [
            "1400it [35:28,  1.51s/it]"
          ]
        },
        {
          "name": "stdout",
          "output_type": "stream",
          "text": [
            "[4, 1400] loss: 0.006653027958236635\n"
          ]
        },
        {
          "name": "stderr",
          "output_type": "stream",
          "text": [
            "1500it [38:09,  1.47s/it]"
          ]
        },
        {
          "name": "stdout",
          "output_type": "stream",
          "text": [
            "[4, 1500] loss: 0.00600447628996335\n"
          ]
        },
        {
          "name": "stderr",
          "output_type": "stream",
          "text": [
            "1600it [40:44,  1.44s/it]"
          ]
        },
        {
          "name": "stdout",
          "output_type": "stream",
          "text": [
            "[4, 1600] loss: 0.0078114192048087715\n"
          ]
        },
        {
          "name": "stderr",
          "output_type": "stream",
          "text": [
            "1700it [43:18,  1.47s/it]"
          ]
        },
        {
          "name": "stdout",
          "output_type": "stream",
          "text": [
            "[4, 1700] loss: 0.006639618454501033\n"
          ]
        },
        {
          "name": "stderr",
          "output_type": "stream",
          "text": [
            "1800it [45:53,  1.53s/it]"
          ]
        },
        {
          "name": "stdout",
          "output_type": "stream",
          "text": [
            "[4, 1800] loss: 0.0057808779296465215\n"
          ]
        },
        {
          "name": "stderr",
          "output_type": "stream",
          "text": [
            "\n"
          ]
        },
        {
          "name": "stdout",
          "output_type": "stream",
          "text": [
            "Validation loss: 0.007\n"
          ]
        },
        {
          "name": "stderr",
          "output_type": "stream",
          "text": [
            "100it [02:32,  1.44s/it]"
          ]
        },
        {
          "name": "stdout",
          "output_type": "stream",
          "text": [
            "[5, 100] loss: 0.006288994981441647\n"
          ]
        },
        {
          "name": "stderr",
          "output_type": "stream",
          "text": [
            "200it [05:04,  1.47s/it]"
          ]
        },
        {
          "name": "stdout",
          "output_type": "stream",
          "text": [
            "[5, 200] loss: 0.005869287438690663\n"
          ]
        },
        {
          "name": "stderr",
          "output_type": "stream",
          "text": [
            "300it [07:36,  1.51s/it]"
          ]
        },
        {
          "name": "stdout",
          "output_type": "stream",
          "text": [
            "[5, 300] loss: 0.005667370993178338\n"
          ]
        },
        {
          "name": "stderr",
          "output_type": "stream",
          "text": [
            "400it [10:17,  1.46s/it]"
          ]
        },
        {
          "name": "stdout",
          "output_type": "stream",
          "text": [
            "[5, 400] loss: 0.00651495382655412\n"
          ]
        },
        {
          "name": "stderr",
          "output_type": "stream",
          "text": [
            "500it [12:50,  1.45s/it]"
          ]
        },
        {
          "name": "stdout",
          "output_type": "stream",
          "text": [
            "[5, 500] loss: 0.005999319422990083\n"
          ]
        },
        {
          "name": "stderr",
          "output_type": "stream",
          "text": [
            "600it [15:26,  1.46s/it]"
          ]
        },
        {
          "name": "stdout",
          "output_type": "stream",
          "text": [
            "[5, 600] loss: 0.0059178611822426315\n"
          ]
        },
        {
          "name": "stderr",
          "output_type": "stream",
          "text": [
            "700it [18:00,  1.45s/it]"
          ]
        },
        {
          "name": "stdout",
          "output_type": "stream",
          "text": [
            "[5, 700] loss: 0.005194941683439538\n"
          ]
        },
        {
          "name": "stderr",
          "output_type": "stream",
          "text": [
            "800it [20:33,  1.51s/it]"
          ]
        },
        {
          "name": "stdout",
          "output_type": "stream",
          "text": [
            "[5, 800] loss: 0.006572313182987273\n"
          ]
        },
        {
          "name": "stderr",
          "output_type": "stream",
          "text": [
            "900it [23:07,  1.52s/it]"
          ]
        },
        {
          "name": "stdout",
          "output_type": "stream",
          "text": [
            "[5, 900] loss: 0.004619200051529333\n"
          ]
        },
        {
          "name": "stderr",
          "output_type": "stream",
          "text": [
            "1000it [25:39,  1.55s/it]"
          ]
        },
        {
          "name": "stdout",
          "output_type": "stream",
          "text": [
            "[5, 1000] loss: 0.006383404566440732\n"
          ]
        },
        {
          "name": "stderr",
          "output_type": "stream",
          "text": [
            "1100it [28:13,  1.63s/it]"
          ]
        },
        {
          "name": "stdout",
          "output_type": "stream",
          "text": [
            "[5, 1100] loss: 0.004809260834008455\n"
          ]
        },
        {
          "name": "stderr",
          "output_type": "stream",
          "text": [
            "1200it [30:43,  1.50s/it]"
          ]
        },
        {
          "name": "stdout",
          "output_type": "stream",
          "text": [
            "[5, 1200] loss: 0.008199772147927433\n"
          ]
        },
        {
          "name": "stderr",
          "output_type": "stream",
          "text": [
            "1300it [33:14,  1.43s/it]"
          ]
        },
        {
          "name": "stdout",
          "output_type": "stream",
          "text": [
            "[5, 1300] loss: 0.006560161749366671\n"
          ]
        },
        {
          "name": "stderr",
          "output_type": "stream",
          "text": [
            "1400it [35:45,  1.52s/it]"
          ]
        },
        {
          "name": "stdout",
          "output_type": "stream",
          "text": [
            "[5, 1400] loss: 0.006359847865533084\n"
          ]
        },
        {
          "name": "stderr",
          "output_type": "stream",
          "text": [
            "1500it [38:24,  1.47s/it]"
          ]
        },
        {
          "name": "stdout",
          "output_type": "stream",
          "text": [
            "[5, 1500] loss: 0.007291274755261839\n"
          ]
        },
        {
          "name": "stderr",
          "output_type": "stream",
          "text": [
            "1600it [41:00,  1.45s/it]"
          ]
        },
        {
          "name": "stdout",
          "output_type": "stream",
          "text": [
            "[5, 1600] loss: 0.006896869618212804\n"
          ]
        },
        {
          "name": "stderr",
          "output_type": "stream",
          "text": [
            "1700it [43:31,  1.50s/it]"
          ]
        },
        {
          "name": "stdout",
          "output_type": "stream",
          "text": [
            "[5, 1700] loss: 0.004838906810618937\n"
          ]
        },
        {
          "name": "stderr",
          "output_type": "stream",
          "text": [
            "1800it [46:05,  1.54s/it]"
          ]
        },
        {
          "name": "stdout",
          "output_type": "stream",
          "text": [
            "[5, 1800] loss: 0.005278926562750712\n"
          ]
        },
        {
          "name": "stderr",
          "output_type": "stream",
          "text": [
            "\n"
          ]
        },
        {
          "name": "stdout",
          "output_type": "stream",
          "text": [
            "Validation loss: 0.006\n",
            "Saving model state...\n",
            "Finished training.\n"
          ]
        }
      ],
      "source": [
        "# Train the model\n",
        "num_epochs = 5\n",
        "best_loss = float('inf')\n",
        "\n",
        "for epoch in range(num_epochs):\n",
        "    running_loss = 0.0\n",
        "    for i, batch in tqdm(enumerate(train_loader, 0)):\n",
        "\n",
        "        inputs, targets = batch['noisy'], batch['clean']\n",
        "        \n",
        "        inputs_data = inputs.to(device)\n",
        "        targets_data = targets.to(device)\n",
        "\n",
        "        optimizer.zero_grad()\n",
        "\n",
        "        outputs = model(inputs_data)\n",
        "        \n",
        "        loss = criterion(outputs, targets_data)\n",
        "\n",
        "        loss.backward()\n",
        "        optimizer.step()\n",
        "\n",
        "        running_loss += loss.item()\n",
        "\n",
        "        if i % 100 == 99:\n",
        "            print(f'[{epoch+1}, {i+1}] loss: {running_loss/100}')\n",
        "            running_loss = 0.0\n",
        "\n",
        "    # Evaluate the model on the validation set and save the best model\n",
        "    val_loss = 0.0\n",
        "    with torch.no_grad():\n",
        "        for data in validation_loader:\n",
        "            inputs, targets = data['noisy'], data['clean']\n",
        "            inputs_data = inputs.to(device)\n",
        "            targets_data = targets.to(device)\n",
        "            outputs = model(inputs_data)\n",
        "            val_loss += criterion(outputs, targets_data).item()\n",
        "\n",
        "    val_loss /= len(validation_loader)\n",
        "    print('Validation loss: %.3f' % val_loss)\n",
        "\n",
        "    if val_loss < best_loss:\n",
        "        print('Saving model state...')\n",
        "        torch.save(model.state_dict(), my_best_model)\n",
        "        best_loss = val_loss\n",
        "\n",
        "print('Finished training.')\n"
      ]
    },
    {
      "cell_type": "code",
      "execution_count": null,
      "metadata": {
        "colab": {
          "base_uri": "https://localhost:8080/"
        },
        "id": "pXqRaRnd4o4J",
        "outputId": "255f82bc-a006-4270-c7e9-bc3e78fbf643"
      },
      "outputs": [
        {
          "name": "stderr",
          "output_type": "stream",
          "text": [
            " 11%|█         | 67/600 [00:22<02:12,  4.03it/s]/usr/local/lib/python3.9/dist-packages/torch/nn/modules/loss.py:536: UserWarning: Using a target size (torch.Size([1, 4, 512, 512])) that is different to the input size (torch.Size([1, 1, 512, 512])). This will likely lead to incorrect results due to broadcasting. Please ensure they have the same size.\n",
            "  return F.mse_loss(input, target, reduction=self.reduction)\n",
            "100%|██████████| 600/600 [02:52<00:00,  3.48it/s]"
          ]
        },
        {
          "name": "stdout",
          "output_type": "stream",
          "text": [
            "Test loss: 0.006\n"
          ]
        },
        {
          "name": "stderr",
          "output_type": "stream",
          "text": [
            "\n"
          ]
        }
      ],
      "source": [
        "# Testing\n",
        "\n",
        "# Load the best model\n",
        "model.load_state_dict(torch.load(my_best_model))\n",
        "\n",
        "# Switch to eval mode\n",
        "model.eval()\n",
        "\n",
        "# Test the model on the test dataset\n",
        "test_loss = 0.0\n",
        "with torch.no_grad():\n",
        "    for data in tqdm(test_loader):\n",
        "        inputs, targets = data['noisy'], data['clean']\n",
        "        inputs_data = inputs.to(device)\n",
        "        targets_data = targets.to(device)\n",
        "        outputs = model(inputs_data)\n",
        "        test_loss += criterion(outputs, targets_data).item()\n",
        "\n",
        "test_loss /= len(test_loader)\n",
        "print('Test loss: %.3f' % test_loss)\n"
      ]
    },
    {
      "cell_type": "code",
      "execution_count": null,
      "metadata": {
        "id": "rCmmHisBFrrL"
      },
      "outputs": [],
      "source": [
        "# Function to test out the model's ability to reconstruct the images\n",
        "def show_test_model(clean_image, noisy_image):\n",
        "    # Load the model from the saved state dict\n",
        "    model.load_state_dict(torch.load(my_best_model))\n",
        "    model.eval()\n",
        "\n",
        "    # Load the clean and noisy images from the filenames\n",
        "    clean_image_data = Image.open(clean_image).convert('L')\n",
        "    noisy_image_data = Image.open(noisy_image).convert('L')\n",
        "\n",
        "    # Apply the image transforms and add a batch dimension to the noisy image\n",
        "    clean_image_tensor = data_transform(clean_image_data).unsqueeze(0).to(device)\n",
        "    noisy_image_tensor = data_transform(noisy_image_data).unsqueeze(0).to(device)\n",
        "\n",
        "    # Run the noisy image through the model to get the cleaned image\n",
        "    cleaned_image_tensor = model(noisy_image_tensor)\n",
        "\n",
        "    # Convert the tensors to PIL images and display them\n",
        "    clean_image_pil = transforms.ToPILImage()(clean_image_tensor.squeeze().cpu())\n",
        "    noisy_image_pil = transforms.ToPILImage()(noisy_image_tensor.squeeze().cpu())\n",
        "    cleaned_image_pil = transforms.ToPILImage()(cleaned_image_tensor.squeeze().cpu())\n",
        "\n",
        "    # Show the images with their titles\n",
        "    fig, axs = plt.subplots(1, 3, figsize=(10, 5))\n",
        "    axs[0].imshow(clean_image_pil, cmap='gray')\n",
        "    axs[0].set_title('Clean image')\n",
        "    axs[1].imshow(noisy_image_pil, cmap='gray')\n",
        "    axs[1].set_title('Noisy image')\n",
        "    axs[2].imshow(cleaned_image_pil, cmap='gray')\n",
        "    axs[2].set_title('Cleaned image')\n",
        "    plt.show()"
      ]
    },
    {
      "cell_type": "code",
      "execution_count": null,
      "metadata": {
        "colab": {
          "base_uri": "https://localhost:8080/",
          "height": 310
        },
        "id": "_KdhbGWKA5wQ",
        "outputId": "d528087e-520e-4f58-e176-440321e1eb4f"
      },
      "outputs": [
        {
          "data": {
            "image/png": "[encoded data removed]",
            "text/plain": [
              "<Figure size 1000x500 with 3 Axes>"
            ]
          },
          "metadata": {},
          "output_type": "display_data"
        }
      ],
      "source": [
        "# Show examples of how well the model denoises test data\n",
        "\n",
        "test_data_len = len(test_data)\n",
        "rand_idx = random.randint(0, test_data_len-1)\n",
        "noisy_image, clean_image = test_data[rand_idx]\n",
        "noisy_path = os.path.join(TEST_PATH, noisy_image)\n",
        "clean_path = os.path.join(TEST_PATH, clean_image)\n",
        "show_test_model(clean_image=clean_path, noisy_image=noisy_path)\n"
      ]
    },
    {
      "cell_type": "code",
      "execution_count": null,
      "metadata": {},
      "outputs": [],
      "source": [
        "### Add your image paths and run this block to test out your own! ###\n",
        "clean_image_path = \"\"\n",
        "noisy_image_path = \"\"\n",
        "show_test_model(clean_image=clean_image_path, noisy_image=noisy_image_path)\n"
      ]
    }
  ],
  "metadata": {
    "colab": {
      "provenance": []
    },
    "gpuClass": "standard",
    "kernelspec": {
      "display_name": "Python 3",
      "language": "python",
      "name": "python3"
    },
    "language_info": {
      "name": "python",
      "version": "3.7.3"
    },
    "vscode": {
      "interpreter": {
        "hash": "20bf69066c0dd38d51965b69d5e1b6e387082e3198ba56e97997ac55f4e50ad0"
      }
    }
  },
  "nbformat": 4,
  "nbformat_minor": 0
}
